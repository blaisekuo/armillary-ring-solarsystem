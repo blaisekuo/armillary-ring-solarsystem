{
 "cells": [
  {
   "cell_type": "code",
   "execution_count": 3,
   "metadata": {},
   "outputs": [],
   "source": [
    "from astropy.time import Time\n",
    "from astropy.coordinates import solar_system_ephemeris, EarthLocation\n",
    "from astropy.coordinates import get_body_barycentric, get_body, get_moon"
   ]
  },
  {
   "cell_type": "code",
   "execution_count": 248,
   "metadata": {},
   "outputs": [],
   "source": [
    "# install astroplan\n",
    "\n",
    "#conda install -c astropy astroplan\n",
    "\n",
    "#to use Observer.sun_set_time\n",
    "\n",
    "from astroplan import Observer\n",
    "from pytz import timezone\n",
    "import datetime"
   ]
  },
  {
   "cell_type": "code",
   "execution_count": 130,
   "metadata": {},
   "outputs": [],
   "source": [
    "# we want 2019-11-30 sunset in Cebu City which is +8 GMT\n",
    "t = Time(\"2019-11-30 10:00\")"
   ]
  },
  {
   "cell_type": "code",
   "execution_count": 165,
   "metadata": {},
   "outputs": [],
   "source": [
    "# we want 2019-11-30 sunset in Cebu City which is +8 GMT\n",
    "dt = Time(\"2019-11-30\")"
   ]
  },
  {
   "cell_type": "code",
   "execution_count": 166,
   "metadata": {},
   "outputs": [
    {
     "name": "stdout",
     "output_type": "stream",
     "text": [
      "ISO: 2019-11-30 00:00:00.000, JD: 2458817.5\n"
     ]
    }
   ],
   "source": [
    "print(\"ISO: {0.iso}, JD: {0.jd}\".format(dt)) "
   ]
  },
  {
   "cell_type": "code",
   "execution_count": 131,
   "metadata": {},
   "outputs": [],
   "source": [
    "#location for Cebu City\n",
    "loc = EarthLocation.from_geodetic(123.94,10.32)"
   ]
  },
  {
   "cell_type": "code",
   "execution_count": 18,
   "metadata": {},
   "outputs": [],
   "source": [
    "#nautical twilight is 12 degrees below the horizon"
   ]
  },
  {
   "cell_type": "code",
   "execution_count": 308,
   "metadata": {},
   "outputs": [],
   "source": [
    "observer = Observer(name='Cebu City',\n",
    "               location=loc,\n",
    "               timezone=timezone('Asia/Manila'))"
   ]
  },
  {
   "cell_type": "code",
   "execution_count": 309,
   "metadata": {},
   "outputs": [],
   "source": [
    "#get nautical twilight time for the given day, given a date string. nautical twilight is when the sun is 12 degrees below the horizon\n",
    "# for our given location cebu city\n",
    "\n",
    "nautitime=observer.twilight_evening_nautical(dt, which='next')"
   ]
  },
  {
   "cell_type": "code",
   "execution_count": 311,
   "metadata": {},
   "outputs": [
    {
     "name": "stdout",
     "output_type": "stream",
     "text": [
      "ISO: 2019-11-30 10:08:26.537, JD: 2458817.922529364\n"
     ]
    }
   ],
   "source": [
    "print(\"ISO: {0.iso}, JD: {0.jd}\".format(nautitime)) "
   ]
  },
  {
   "cell_type": "code",
   "execution_count": 312,
   "metadata": {},
   "outputs": [],
   "source": [
    "nauti_dt=nautitime.to_datetime()"
   ]
  },
  {
   "cell_type": "code",
   "execution_count": 313,
   "metadata": {},
   "outputs": [],
   "source": [
    "nauti_utc=nauti_dt.replace(tzinfo=utc)"
   ]
  },
  {
   "cell_type": "code",
   "execution_count": 314,
   "metadata": {},
   "outputs": [
    {
     "name": "stdout",
     "output_type": "stream",
     "text": [
      "2019-11-30 10:08:26.537050+00:00\n"
     ]
    }
   ],
   "source": [
    "print(nauti_utc)"
   ]
  },
  {
   "cell_type": "code",
   "execution_count": 315,
   "metadata": {},
   "outputs": [],
   "source": [
    "localtime=nauti_utc.astimezone(timezone('Asia/Manila'))"
   ]
  },
  {
   "cell_type": "code",
   "execution_count": 316,
   "metadata": {},
   "outputs": [
    {
     "name": "stdout",
     "output_type": "stream",
     "text": [
      "2019-11-30 18:08:26.537050+08:00\n"
     ]
    }
   ],
   "source": [
    "print(localtime) "
   ]
  },
  {
   "cell_type": "code",
   "execution_count": 333,
   "metadata": {},
   "outputs": [],
   "source": [
    "t=nautitime"
   ]
  },
  {
   "cell_type": "code",
   "execution_count": 346,
   "metadata": {},
   "outputs": [],
   "source": [
    "bodies = {\n",
    "    \"sun\" : '',\n",
    "    \"moon\" : '',\n",
    "    \"mercury\" : '',\n",
    "    \"venus\" : '',\n",
    "    \"mars\" : '',\n",
    "    \"jupiter\" : '',\n",
    "    \"saturn\" : ''\n",
    "}"
   ]
  },
  {
   "cell_type": "code",
   "execution_count": 347,
   "metadata": {},
   "outputs": [],
   "source": [
    "with solar_system_ephemeris.set('builtin'):\n",
    "    for key in bodies:\n",
    "         bodies[key] = get_body(key,t,loc)\n",
    "    #moon = get_body('moon',t,loc)\n",
    "    #mercury = get_body('mercury',t,loc)\n",
    "    #venus = get_body('venus',t,loc)\n",
    "    #mars = get_body('mars',t,loc)\n",
    "    #jup = get_body('jupiter',t,loc)\n",
    "    #sat = get_body('saturn',t,loc)"
   ]
  },
  {
   "cell_type": "code",
   "execution_count": 339,
   "metadata": {},
   "outputs": [
    {
     "data": {
      "text/latex": [
       "$245^\\circ49{}^\\prime36.916{}^{\\prime\\prime}$"
      ],
      "text/plain": [
       "<Longitude 245.8269211 deg>"
      ]
     },
     "execution_count": 339,
     "metadata": {},
     "output_type": "execute_result"
    }
   ],
   "source": [
    "sun.ra"
   ]
  },
  {
   "cell_type": "code",
   "execution_count": 357,
   "metadata": {},
   "outputs": [
    {
     "name": "stdout",
     "output_type": "stream",
     "text": [
      "sun\n",
      "0d00m00s\n",
      "moon\n",
      "1d27m58.6482s\n",
      "mercury\n",
      "-6d35m23.3767s\n",
      "venus\n",
      "3d12m08.5898s\n",
      "mars\n",
      "-8d18m49.1868s\n",
      "jupiter\n",
      "1d42m58.9302s\n",
      "saturn\n",
      "0d36m07.765s\n"
     ]
    }
   ],
   "source": [
    "for key, values in bodies.items():\n",
    "    print(key)\n",
    "    print(bodies['sun'].dec-values.dec)"
   ]
  },
  {
   "cell_type": "code",
   "execution_count": 356,
   "metadata": {},
   "outputs": [
    {
     "data": {
      "text/latex": [
       "$1^\\circ27{}^\\prime58.6482{}^{\\prime\\prime}$"
      ],
      "text/plain": [
       "<Angle 1.46629117 deg>"
      ]
     },
     "execution_count": 356,
     "metadata": {},
     "output_type": "execute_result"
    }
   ],
   "source": [
    "bodies['sun'].dec-bodies['moon'].dec"
   ]
  },
  {
   "cell_type": "code",
   "execution_count": null,
   "metadata": {},
   "outputs": [],
   "source": []
  }
 ],
 "metadata": {
  "kernelspec": {
   "display_name": "Python 3",
   "language": "python",
   "name": "python3"
  },
  "language_info": {
   "codemirror_mode": {
    "name": "ipython",
    "version": 3
   },
   "file_extension": ".py",
   "mimetype": "text/x-python",
   "name": "python",
   "nbconvert_exporter": "python",
   "pygments_lexer": "ipython3",
   "version": "3.6.4"
  }
 },
 "nbformat": 4,
 "nbformat_minor": 2
}
